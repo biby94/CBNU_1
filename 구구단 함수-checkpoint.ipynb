{
 "cells": [
  {
   "cell_type": "markdown",
   "metadata": {},
   "source": [
    "### 1. 구구단 함수"
   ]
  },
  {
   "cell_type": "code",
   "execution_count": null,
   "metadata": {},
   "outputs": [],
   "source": [
    "dan = 1\n",
    "\n",
    "while dan :\n",
    "    dan = int(input('몇단을 출력할까요?(종료: 0) : '))\n",
    "    if dan == 0 :\n",
    "        break\n",
    "    else:\n",
    "        for i in range (1, 10) :\n",
    "            print('{} * {} = {}'.format(dan,i,dan*i))"
   ]
  }
 ],
 "metadata": {
  "kernelspec": {
   "display_name": "Python 3",
   "language": "python",
   "name": "python3"
  },
  "language_info": {
   "codemirror_mode": {
    "name": "ipython",
    "version": 3
   },
   "file_extension": ".py",
   "mimetype": "text/x-python",
   "name": "python",
   "nbconvert_exporter": "python",
   "pygments_lexer": "ipython3",
   "version": "3.8.3"
  }
 },
 "nbformat": 4,
 "nbformat_minor": 4
}
